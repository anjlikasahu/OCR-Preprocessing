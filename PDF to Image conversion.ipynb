{
 "cells": [
  {
   "cell_type": "code",
   "execution_count": 1,
   "id": "going-poker",
   "metadata": {},
   "outputs": [
    {
     "name": "stderr",
     "output_type": "stream",
     "text": [
      "WARNING: You are using pip version 20.2.3; however, version 21.1.2 is available.\n",
      "You should consider upgrading via the 'c:\\users\\hp\\appdata\\local\\programs\\python\\python39\\python.exe -m pip install --upgrade pip' command.\n"
     ]
    },
    {
     "name": "stdout",
     "output_type": "stream",
     "text": [
      "Requirement already satisfied: pdf2image in c:\\users\\hp\\appdata\\local\\programs\\python\\python39\\lib\\site-packages (1.15.1)\n",
      "Requirement already satisfied: pillow in c:\\users\\hp\\appdata\\local\\programs\\python\\python39\\lib\\site-packages (from pdf2image) (8.2.0)\n"
     ]
    }
   ],
   "source": [
    "!pip install pdf2image"
   ]
  },
  {
   "cell_type": "code",
   "execution_count": 2,
   "id": "physical-connection",
   "metadata": {},
   "outputs": [],
   "source": [
    "from pdf2image import convert_from_path"
   ]
  },
  {
   "cell_type": "code",
   "execution_count": 4,
   "id": "requested-target",
   "metadata": {},
   "outputs": [],
   "source": [
    "#SAVING IMAGES FROM PDF\n",
    "\n",
    "from pdf2image import convert_from_path\n",
    "pdf_file_path = r'C:\\Users\\HP\\OneDrive\\Desktop\\TECH\\SARCI\\OCR_PDFs\\T0026 02-07-2021 20201228-13427.pdf'\n",
    "pages = convert_from_path(pdf_file_path, 500,poppler_path=r'C:\\Users\\HP\\OneDrive\\Desktop\\TECH\\Python\\poppler-0.68.0\\bin')\n",
    "img_file = pdf_file_path.replace(\".pdf\", \"\")\n",
    "count = 0\n",
    "for page in pages:   \n",
    "    count +=1\n",
    "    page.save('IMG'+str(count)+'.jpg', 'JPEG')"
   ]
  },
  {
   "cell_type": "code",
   "execution_count": 6,
   "id": "instrumental-hardwood",
   "metadata": {},
   "outputs": [],
   "source": [
    "#MOVING THE IMAGE TO DESIRED USER LOCATION\n",
    "\n",
    "import shutil\n",
    "import fnmatch\n",
    "import os\n",
    " \n",
    "c = '\\\\'\n",
    "src = r'C:\\Users\\HP\\OneDrive\\Desktop\\TECH\\Python'\n",
    "  \n",
    "dest = r'C:\\Users\\HP\\OneDrive\\Desktop\\TECH\\SARCI\\OCR_PDFs'\n",
    " \n",
    "files = fnmatch.filter(os.listdir(src), \"IMG*.jpg\")\n",
    " \n",
    "for f in files:\n",
    "    f1 = c + f\n",
    "    shutil.move(src + f1, dest)"
   ]
  },
  {
   "cell_type": "code",
   "execution_count": null,
   "id": "analyzed-feedback",
   "metadata": {},
   "outputs": [],
   "source": []
  }
 ],
 "metadata": {
  "kernelspec": {
   "display_name": "Python 3",
   "language": "python",
   "name": "python3"
  },
  "language_info": {
   "codemirror_mode": {
    "name": "ipython",
    "version": 3
   },
   "file_extension": ".py",
   "mimetype": "text/x-python",
   "name": "python",
   "nbconvert_exporter": "python",
   "pygments_lexer": "ipython3",
   "version": "3.9.2"
  }
 },
 "nbformat": 4,
 "nbformat_minor": 5
}
